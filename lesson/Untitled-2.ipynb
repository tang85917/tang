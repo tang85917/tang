{
 "cells": [
  {
   "cell_type": "code",
   "execution_count": 8,
   "id": "e1fddf34",
   "metadata": {},
   "outputs": [
    {
     "data": {
      "text/plain": [
       "49.1"
      ]
     },
     "execution_count": 8,
     "metadata": {},
     "output_type": "execute_result"
    }
   ],
   "source": [
    "user_entries = ['10', '19.1', '20']\n",
    "\n",
    "user_entry_sum = 0\n",
    "for user_entry in user_entries:\n",
    "    user_entry_sum += float(user_entry)\n",
    "user_entry_sum\n"
   ]
  },
  {
   "cell_type": "code",
   "execution_count": 12,
   "id": "080e83e0",
   "metadata": {},
   "outputs": [],
   "source": [
    "temperatures = [10, 12, 14]\n",
    "temperatures = [str(i) + '\\n' for i in temperatures]\n",
    " \n",
    "file = open(\"file.txt\", 'w')\n",
    "file.writelines(temperatures)\n",
    "file.close()"
   ]
  },
  {
   "cell_type": "code",
   "execution_count": 13,
   "id": "8581823c",
   "metadata": {},
   "outputs": [
    {
     "data": {
      "text/plain": [
       "['prepare\\n', 'shower\\n', 'play\\n', 'fix\\n', 'go\\n']"
      ]
     },
     "execution_count": 13,
     "metadata": {},
     "output_type": "execute_result"
    }
   ],
   "source": [
    "with open('todos.txt', 'r') as f:\n",
    "    a = f.readlines()\n",
    "a"
   ]
  },
  {
   "cell_type": "code",
   "execution_count": 15,
   "id": "b4f66fff",
   "metadata": {},
   "outputs": [],
   "source": [
    "a[2] = 'play the game'"
   ]
  },
  {
   "cell_type": "code",
   "execution_count": 16,
   "id": "b463a023",
   "metadata": {},
   "outputs": [
    {
     "data": {
      "text/plain": [
       "['prepare\\n', 'shower\\n', 'play the game', 'fix\\n', 'go\\n']"
      ]
     },
     "execution_count": 16,
     "metadata": {},
     "output_type": "execute_result"
    }
   ],
   "source": [
    "a"
   ]
  },
  {
   "cell_type": "code",
   "execution_count": 8,
   "id": "43676ee0",
   "metadata": {},
   "outputs": [
    {
     "name": "stdout",
     "output_type": "stream",
     "text": [
      "98\n",
      "54\n",
      "54\n"
     ]
    },
    {
     "data": {
      "text/plain": [
       "[None, None, None]"
      ]
     },
     "execution_count": 8,
     "metadata": {},
     "output_type": "execute_result"
    }
   ],
   "source": [
    "colors = [11, 34, 98, 43, 45, 54, 54]\n",
    "\n",
    "\n",
    "[print(color) for color in colors if color >= 50]"
   ]
  },
  {
   "cell_type": "code",
   "execution_count": 18,
   "id": "6679eea9",
   "metadata": {},
   "outputs": [
    {
     "name": "stdout",
     "output_type": "stream",
     "text": [
      "Report\n",
      "Downloads\n",
      "Success\n",
      "Folders\n"
     ]
    },
    {
     "data": {
      "text/plain": [
       "[None, None, None, None]"
      ]
     },
     "execution_count": 18,
     "metadata": {},
     "output_type": "execute_result"
    }
   ],
   "source": [
    "filenames = [\"report.txt\", \"downloads.txt\", \"success.txt\", \"folders.txt\"]\n",
    "\n",
    "[print(filename.split('.')[0].capitalize()) for filename in filenames]"
   ]
  },
  {
   "cell_type": "code",
   "execution_count": 8,
   "id": "f10daa97",
   "metadata": {},
   "outputs": [
    {
     "name": "stdout",
     "output_type": "stream",
     "text": [
      "25\n"
     ]
    }
   ],
   "source": [
    "def math(first, scond, third=None):\n",
    "    if third is not None:\n",
    "        a = first * scond + third\n",
    "    else:\n",
    "        a = first * scond\n",
    "    return a\n",
    "\n",
    "b = math(5, 5)\n",
    "print(b)"
   ]
  },
  {
   "cell_type": "code",
   "execution_count": 7,
   "id": "040921b3",
   "metadata": {},
   "outputs": [
    {
     "name": "stdout",
     "output_type": "stream",
     "text": [
      "Hi Jala\n"
     ]
    }
   ],
   "source": [
    "def sayhello(name):\n",
    "    \n",
    "    name = name\n",
    "    return print(f'Hi {name}')\n",
    "\n",
    "sayhello(\"Jala\")"
   ]
  },
  {
   "cell_type": "code",
   "execution_count": null,
   "id": "ffbf1dee",
   "metadata": {},
   "outputs": [
    {
     "data": {
      "text/plain": [
       "6"
      ]
     },
     "execution_count": 14,
     "metadata": {},
     "output_type": "execute_result"
    }
   ],
   "source": [
    "from datetime import datetime\n",
    "from pathlib import Path\n",
    "\n",
    "today = datetime.today()\n",
    "month = today.month\n",
    "month"
   ]
  },
  {
   "cell_type": "code",
   "execution_count": null,
   "id": "e6720fc3",
   "metadata": {},
   "outputs": [],
   "source": []
  }
 ],
 "metadata": {
  "kernelspec": {
   "display_name": "Python 3",
   "language": "python",
   "name": "python3"
  },
  "language_info": {
   "codemirror_mode": {
    "name": "ipython",
    "version": 3
   },
   "file_extension": ".py",
   "mimetype": "text/x-python",
   "name": "python",
   "nbconvert_exporter": "python",
   "pygments_lexer": "ipython3",
   "version": "3.13.2"
  }
 },
 "nbformat": 4,
 "nbformat_minor": 5
}
