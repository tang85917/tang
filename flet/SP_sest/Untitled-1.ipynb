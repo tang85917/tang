{
 "cells": [
  {
   "cell_type": "code",
   "execution_count": 7,
   "id": "5bcf4a7b",
   "metadata": {},
   "outputs": [
    {
     "data": {
      "text/plain": [
       "['DAI1 RP 2025.xlsm',\n",
       " 'DCJ1 RP 2025.xlsm',\n",
       " 'DCJ3 RP 2025.xlsm',\n",
       " 'DCJ4 RP 2025.xlsm',\n",
       " 'DCJ5 RP 2025.xlsm',\n",
       " 'DEJ1 RP 2025.xlsm',\n",
       " 'DEJ2 RP 2025.xlsm',\n",
       " 'DEJ3 RP 2025.xlsm',\n",
       " 'DEJ4 RP 2025.xlsm',\n",
       " 'DEJ5 RP 2025.xlsm',\n",
       " 'DEJ6 RP 2025.xlsm',\n",
       " 'DEJ7 RP 2025.xlsm',\n",
       " 'DEJ8 RP 2025.xlsm',\n",
       " 'DEJ9 RP 2025.xlsm',\n",
       " 'DFK1 RP 2025.xlsm',\n",
       " 'DFK2 RP 2025.xlsm',\n",
       " 'DFK3 RP 2025.xlsm',\n",
       " 'DFK4 RP 2025.xlsm',\n",
       " 'DFK5 RP 2025.xlsm',\n",
       " 'DHK1 RP 2025.xlsm',\n",
       " 'DHR1 RP 2025.xlsm',\n",
       " 'DHR2 RP 2025.xlsm',\n",
       " 'DKJ1 RP 2025.xlsm',\n",
       " 'DKJ3 RP 2025.xlsm',\n",
       " 'DKJ4 RP 2025.xlsm',\n",
       " 'DKJ5 RP 2025.xlsm',\n",
       " 'DMG1 RP 2025.xlsm',\n",
       " 'DMG3 RP 2025.xlsm',\n",
       " 'DOO1 RP 2025.xlsm',\n",
       " 'DOO2 RP 2025.xlsm',\n",
       " 'DOO3 RP 2025.xlsm',\n",
       " 'DOO4 RP 2025.xlsm',\n",
       " 'DOW2 RP 2025.xlsm',\n",
       " 'DTK1 RP 2025.xlsm',\n",
       " 'DTK3 RP 2025.xlsm',\n",
       " 'DTK4 RP 2025.xlsm',\n",
       " 'DTK5 RP 2025.xlsm',\n",
       " 'DTK6 RP 2025.xlsm',\n",
       " 'DTK7 RP 2025.xlsm',\n",
       " 'DTK8 RP 2025.xlsm',\n",
       " 'DWJ1 RP 2025.xlsm',\n",
       " 'DWJ3 RP 2025.xlsm',\n",
       " 'DWJ4 RP 2025.xlsm',\n",
       " 'Mini RP Master 2025.xlsm',\n",
       " 'Shinka RP 2025.xlsm',\n",
       " 'VIT1 RP 2025.xlsm',\n",
       " 'VKI1 RP 2025.xlsm',\n",
       " 'VOW1 RP 2025.xlsm',\n",
       " 'VSJ1 RP 2025.xlsm',\n",
       " 'トラブル報告専用 MiniDS 2025.xlsm',\n",
       " '余りルート専用 Shinka 2025.xlsm']"
      ]
     },
     "execution_count": 7,
     "metadata": {},
     "output_type": "execute_result"
    }
   ],
   "source": [
    "from pathlib import Path\n",
    "\n",
    "folder = Path('1745')\n",
    "files = [f.name for f in folder.iterdir() if f.is_file()]\n",
    "files"
   ]
  },
  {
   "cell_type": "code",
   "execution_count": 12,
   "id": "5af9d0a5",
   "metadata": {},
   "outputs": [],
   "source": [
    "filename = [f.split(' ')[0] for f in files]"
   ]
  },
  {
   "cell_type": "code",
   "execution_count": 13,
   "id": "56d3890c",
   "metadata": {},
   "outputs": [
    {
     "data": {
      "text/plain": [
       "['DAI1',\n",
       " 'DCJ1',\n",
       " 'DCJ3',\n",
       " 'DCJ4',\n",
       " 'DCJ5',\n",
       " 'DEJ1',\n",
       " 'DEJ2',\n",
       " 'DEJ3',\n",
       " 'DEJ4',\n",
       " 'DEJ5',\n",
       " 'DEJ6',\n",
       " 'DEJ7',\n",
       " 'DEJ8',\n",
       " 'DEJ9',\n",
       " 'DFK1',\n",
       " 'DFK2',\n",
       " 'DFK3',\n",
       " 'DFK4',\n",
       " 'DFK5',\n",
       " 'DHK1',\n",
       " 'DHR1',\n",
       " 'DHR2',\n",
       " 'DKJ1',\n",
       " 'DKJ3',\n",
       " 'DKJ4',\n",
       " 'DKJ5',\n",
       " 'DMG1',\n",
       " 'DMG3',\n",
       " 'DOO1',\n",
       " 'DOO2',\n",
       " 'DOO3',\n",
       " 'DOO4',\n",
       " 'DOW2',\n",
       " 'DTK1',\n",
       " 'DTK3',\n",
       " 'DTK4',\n",
       " 'DTK5',\n",
       " 'DTK6',\n",
       " 'DTK7',\n",
       " 'DTK8',\n",
       " 'DWJ1',\n",
       " 'DWJ3',\n",
       " 'DWJ4',\n",
       " 'Mini',\n",
       " 'Shinka',\n",
       " 'VIT1',\n",
       " 'VKI1',\n",
       " 'VOW1',\n",
       " 'VSJ1',\n",
       " 'トラブル報告専用',\n",
       " '余りルート専用']"
      ]
     },
     "execution_count": 13,
     "metadata": {},
     "output_type": "execute_result"
    }
   ],
   "source": [
    "filename"
   ]
  },
  {
   "cell_type": "code",
   "execution_count": null,
   "id": "d02ddcee",
   "metadata": {},
   "outputs": [],
   "source": []
  }
 ],
 "metadata": {
  "kernelspec": {
   "display_name": "Python 3",
   "language": "python",
   "name": "python3"
  },
  "language_info": {
   "codemirror_mode": {
    "name": "ipython",
    "version": 3
   },
   "file_extension": ".py",
   "mimetype": "text/x-python",
   "name": "python",
   "nbconvert_exporter": "python",
   "pygments_lexer": "ipython3",
   "version": "3.13.2"
  }
 },
 "nbformat": 4,
 "nbformat_minor": 5
}
